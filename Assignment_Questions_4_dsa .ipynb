{
 "cells": [
  {
   "cell_type": "markdown",
   "id": "725f2afc",
   "metadata": {},
   "source": [
    "Question 1\n",
    "\n",
    "Given three integer arrays arr1, arr2 and arr3 sorted in strictly increasing order, return a sorted array of only the integers that appeared in all three arrays."
   ]
  },
  {
   "cell_type": "code",
   "execution_count": 1,
   "id": "cb7e177e",
   "metadata": {},
   "outputs": [],
   "source": [
    "arr1 = [1,2,3,4,5]\n",
    "arr2 = [1,2,5,7,9]\n",
    "arr3 = [1,3,4,5,8]"
   ]
  },
  {
   "cell_type": "code",
   "execution_count": 3,
   "id": "5b5ab0ee",
   "metadata": {},
   "outputs": [
    {
     "name": "stdout",
     "output_type": "stream",
     "text": [
      "[1, 5]\n"
     ]
    }
   ],
   "source": [
    "def find_common_elements(arr1, arr2, arr3):\n",
    "    p1, p2, p3 = 0, 0, 0\n",
    "    result = []\n",
    "\n",
    "    while p1 < len(arr1) and p2 < len(arr2) and p3 < len(arr3):\n",
    "        if arr1[p1] == arr2[p2] == arr3[p3]:\n",
    "            result.append(arr1[p1])\n",
    "            p1 += 1\n",
    "            p2 += 1\n",
    "            p3 += 1\n",
    "        elif arr1[p1] < arr2[p2]:\n",
    "            p1 += 1\n",
    "        elif arr2[p2] < arr3[p3]:\n",
    "            p2 += 1\n",
    "        else:\n",
    "            p3 += 1\n",
    "\n",
    "    return result\n",
    "\n",
    "common_elements = find_common_elements(arr1, arr2, arr3)\n",
    "print(common_elements)"
   ]
  },
  {
   "cell_type": "markdown",
   "id": "05e47517",
   "metadata": {},
   "source": [
    "**Question 2**\n",
    "\n",
    "\n",
    "Given two **0-indexed** integer arrays nums1 and nums2, return *a list* answer *of size* 2 *where:*\n",
    "\n",
    "- answer[0] *is a list of all **distinct** integers in* nums1 *which are **not** present in* nums2*.*\n",
    "- answer[1] *is a list of all **distinct** integers in* nums2 *which are **not** present in* nums1.\n",
    "\n",
    "**Note** that the integers in the lists may be returned in **any** order.\n",
    "\n",
    "</aside>"
   ]
  },
  {
   "cell_type": "code",
   "execution_count": 7,
   "id": "7b8305fe",
   "metadata": {},
   "outputs": [
    {
     "name": "stdout",
     "output_type": "stream",
     "text": [
      "[[1, 3], [4, 6]]\n"
     ]
    }
   ],
   "source": [
    "def find_disjoint_elements(nums1, nums2):\n",
    "    ls = []\n",
    "    ls.append(list(set(nums1) - set(nums2)))\n",
    "    ls.append(list(set(nums2) - set(nums1)))\n",
    "    return ls\n",
    "    \n",
    "    \n",
    "nums1 = [1,2,3]\n",
    "nums2 = [2,4,6]\n",
    "disjoint_elements = find_disjoint_elements(nums1, nums2)\n",
    "print(disjoint_elements)"
   ]
  },
  {
   "cell_type": "markdown",
   "id": "1cadec47",
   "metadata": {},
   "source": [
    "\n",
    "💡 **Question 3**\n",
    "\n",
    "Given a 2D integer array matrix, return *the **transpose** of* matrix.\n",
    "\n",
    "The **transpose** of a matrix is the matrix flipped over its main diagonal, switching the matrix's row and column indices.\n"
   ]
  },
  {
   "cell_type": "code",
   "execution_count": 11,
   "id": "66153569",
   "metadata": {},
   "outputs": [
    {
     "name": "stdout",
     "output_type": "stream",
     "text": [
      "[[1, 4, 7], [2, 5, 8], [3, 6, 9]]\n"
     ]
    }
   ],
   "source": [
    "matrix = [[1,2,3],[4,5,6],[7,8,9]]\n",
    "\n",
    "def transpose(matrix):\n",
    "    transpose = []\n",
    "    rows = len(matrix)\n",
    "    columns = len(matrix[0])\n",
    "\n",
    "    for i in range(columns):\n",
    "        row = []\n",
    "        for j in range(rows):\n",
    "            row.append(matrix[j][i])\n",
    "        transpose.append(row)\n",
    "\n",
    "    return transpose\n",
    "\n",
    "transposed_matrix = transpose(matrix)\n",
    "print(transposed_matrix)\n"
   ]
  },
  {
   "cell_type": "markdown",
   "id": "e19a5b5b",
   "metadata": {},
   "source": [
    "Question 4\n",
    "\n",
    "Given an integer array nums of 2n integers, group these integers into n pairs (a1, b1), (a2, b2), ..., (an, bn) such that the sum of min(ai, bi) for all i is maximized. Return the maximized sum."
   ]
  },
  {
   "cell_type": "code",
   "execution_count": 13,
   "id": "2fe27535",
   "metadata": {},
   "outputs": [
    {
     "name": "stdout",
     "output_type": "stream",
     "text": [
      "4\n"
     ]
    }
   ],
   "source": [
    "def array_pair_sum(nums):\n",
    "    nums.sort()\n",
    "    max_sum = 0\n",
    "    \n",
    "    for i in range(0, len(nums), 2):\n",
    "        max_sum += nums[i]\n",
    "    \n",
    "    return max_sum\n",
    "\n",
    "nums = [1, 4, 3, 2]\n",
    "maximized_sum = array_pair_sum(nums)\n",
    "print(maximized_sum)"
   ]
  },
  {
   "cell_type": "markdown",
   "id": "78894793",
   "metadata": {},
   "source": [
    "💡 **Question 5**\n",
    "    \n",
    "You have n coins and you want to build a staircase with these coins. The staircase consists of k rows where the ith row has exactly i coins. The last row of the staircase **may be** incomplete.\n",
    "\n",
    "Given the integer n, return *the number of **complete rows** of the staircase you will build*.\n"
   ]
  },
  {
   "cell_type": "code",
   "execution_count": 15,
   "id": "7d7e2728",
   "metadata": {},
   "outputs": [
    {
     "name": "stdout",
     "output_type": "stream",
     "text": [
      "2\n"
     ]
    }
   ],
   "source": [
    "def arrange_coins(n):\n",
    "    k = 0\n",
    "\n",
    "    while k * (k + 1) // 2 <= n:\n",
    "        k += 1\n",
    "\n",
    "    return k - 1\n",
    "\n",
    "n = 5\n",
    "complete_rows = arrange_coins(n)\n",
    "print(complete_rows)\n"
   ]
  },
  {
   "cell_type": "markdown",
   "id": "fd27375a",
   "metadata": {},
   "source": [
    "Question 6\n",
    "\n",
    "Given an integer array nums sorted in non-decreasing order, return an array of the squares of each number sorted in non-decreasing order."
   ]
  },
  {
   "cell_type": "code",
   "execution_count": 19,
   "id": "0530ac08",
   "metadata": {},
   "outputs": [
    {
     "name": "stdout",
     "output_type": "stream",
     "text": [
      "[0, 1, 9, 16, 100]\n"
     ]
    }
   ],
   "source": [
    "def sorted_squares(nums):\n",
    "    r = sorted([number**2 for number in nums])\n",
    "    return r\n",
    "nums = [-4,-1,0,3,10]\n",
    "squared_nums = sorted_squares(nums)\n",
    "print(squared_nums)"
   ]
  },
  {
   "cell_type": "markdown",
   "id": "b8c85ec4",
   "metadata": {},
   "source": [
    "**Question 7**\n",
    "\n",
    "You are given an m x n matrix M initialized with all 0's and an array of operations ops, where ops[i] = [ai, bi] means M[x][y] should be incremented by one for all 0 <= x < ai and 0 <= y < bi.\n",
    "\n",
    "Count and return *the number of maximum integers in the matrix after performing all the operations*\n",
    "\n",
    "</aside>"
   ]
  },
  {
   "cell_type": "code",
   "execution_count": 21,
   "id": "af04c787",
   "metadata": {},
   "outputs": [
    {
     "name": "stdout",
     "output_type": "stream",
     "text": [
      "4\n"
     ]
    }
   ],
   "source": [
    "def max_count(m, n, ops):\n",
    "    min_row = float('inf')\n",
    "    min_col = float('inf')\n",
    "\n",
    "    for op in ops:\n",
    "        min_row = min(min_row, op[0])\n",
    "        min_col = min(min_col, op[1])\n",
    "\n",
    "    if min_row == float('inf') or min_col == float('inf'):\n",
    "        min_row = m\n",
    "        min_col = n\n",
    "\n",
    "    return min_row * min_col\n",
    "\n",
    "m = 3\n",
    "n = 3\n",
    "ops = [[2, 2], [3, 3]]\n",
    "max_integers = max_count(m, n, ops)\n",
    "print(max_integers)\n"
   ]
  },
  {
   "cell_type": "markdown",
   "id": "66785710",
   "metadata": {},
   "source": [
    "**Question 8**\n",
    "\n",
    "\n",
    "Given the array nums consisting of 2n elements in the form [x1,x2,...,xn,y1,y2,...,yn].\n",
    "\n",
    "*Return the array in the form* [x1,y1,x2,y2,...,xn,yn].\n",
    "\n",
    "</aside>"
   ]
  },
  {
   "cell_type": "code",
   "execution_count": 22,
   "id": "be9ade87",
   "metadata": {},
   "outputs": [
    {
     "name": "stdout",
     "output_type": "stream",
     "text": [
      "[2, 3, 5, 4, 1, 7]\n"
     ]
    }
   ],
   "source": [
    "def shuffle(nums, n):\n",
    "    result = []\n",
    "\n",
    "    nums_x = nums[:n]\n",
    "    nums_y = nums[n:]\n",
    "\n",
    "    for i in range(n):\n",
    "        result.append(nums_x[i])\n",
    "        result.append(nums_y[i])\n",
    "\n",
    "    return result\n",
    "nums = [2,5,1,3,4,7]\n",
    "n = 3\n",
    "shuffled_nums = shuffle(nums, n)\n",
    "print(shuffled_nums)\n"
   ]
  },
  {
   "cell_type": "code",
   "execution_count": null,
   "id": "6478dc12",
   "metadata": {},
   "outputs": [],
   "source": []
  }
 ],
 "metadata": {
  "kernelspec": {
   "display_name": "Python 3",
   "language": "python",
   "name": "python3"
  },
  "language_info": {
   "codemirror_mode": {
    "name": "ipython",
    "version": 3
   },
   "file_extension": ".py",
   "mimetype": "text/x-python",
   "name": "python",
   "nbconvert_exporter": "python",
   "pygments_lexer": "ipython3",
   "version": "3.8.8"
  }
 },
 "nbformat": 4,
 "nbformat_minor": 5
}
