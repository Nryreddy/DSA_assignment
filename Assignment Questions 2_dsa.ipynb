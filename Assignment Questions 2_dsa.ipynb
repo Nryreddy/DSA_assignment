{
 "cells": [
  {
   "cell_type": "markdown",
   "id": "46684fdc",
   "metadata": {},
   "source": [
    "Question 1\n",
    "\n",
    "Given an integer array nums of 2n integers, group these integers into n pairs (a1, b1), (a2, b2),..., (an, bn) such that the sum of min(ai, bi) for all i is maximized. Return the maximized sum.\n"
   ]
  },
  {
   "cell_type": "code",
   "execution_count": 20,
   "id": "8e366895",
   "metadata": {},
   "outputs": [
    {
     "name": "stdout",
     "output_type": "stream",
     "text": [
      "[((1, 4), (1, 3)), ((1, 4), (1, 2)), ((1, 4), (4, 3)), ((1, 4), (4, 2)), ((1, 4), (3, 2)), ((1, 3), (1, 2)), ((1, 3), (4, 3)), ((1, 3), (4, 2)), ((1, 3), (3, 2)), ((1, 2), (4, 3)), ((1, 2), (4, 2)), ((1, 2), (3, 2)), ((4, 3), (4, 2)), ((4, 3), (3, 2)), ((4, 2), (3, 2))]\n",
      "the maximized sum is - 5\n"
     ]
    }
   ],
   "source": [
    "from itertools import combinations\n",
    "nums = [1,4,3,2]\n",
    "pairs = list(combinations(nums, 2))\n",
    "n_pairs = list(combinations(pairs, 2))\n",
    "print(n_pairs)\n",
    "sum_min = []\n",
    "for i in n_pairs:\n",
    "    sum_min.append((min(i[0])+min(i[1])))\n",
    "print('the maximized sum is -',max(sum_min))"
   ]
  },
  {
   "cell_type": "markdown",
   "id": "38ec6b85",
   "metadata": {},
   "source": [
    "Question 2  - \n",
    "\n",
    "Alice has n candies, where the ith candy is of type candyType[i]. Alice noticed that she started to gain weight, so she visited a doctor. \n",
    "\n",
    "The doctor advised Alice to only eat n / 2 of the candies she has (n is always even). Alice likes her candies very much, and she wants to eat the maximum number of different types of candies while still following the doctor's advice. \n",
    "\n",
    "Given the integer array candyType of length n, return the maximum number of different types of candies she can eat if she only eats n / 2 of them."
   ]
  },
  {
   "cell_type": "code",
   "execution_count": 28,
   "id": "27b5d38e",
   "metadata": {},
   "outputs": [
    {
     "name": "stdout",
     "output_type": "stream",
     "text": [
      "4\n"
     ]
    }
   ],
   "source": [
    "def maxCandies(candyType):\n",
    "    unique_types = set(candyType)\n",
    "    max_types = len(unique_types)\n",
    "    max_allowed = len(candyType) // 2\n",
    "    return min(max_types, max_allowed)\n",
    "\n",
    "candyType = [1, 1, 2, 2, 3, 3, 2, 4]\n",
    "print(maxCandies(candyType)) \n"
   ]
  },
  {
   "cell_type": "markdown",
   "id": "917ba54b",
   "metadata": {},
   "source": [
    "Question 3\n",
    "\n",
    "We define a harmonious array as an array where the difference between its maximum value\n",
    "and its minimum value is exactly 1.\n",
    "\n",
    "Given an integer array nums, return the length of its longest harmonious subsequence\n",
    "among all its possible subsequences.\n",
    "\n",
    "A subsequence of an array is a sequence that can be derived from the array by deleting some or no elements without changing the order of the remaining elements."
   ]
  },
  {
   "cell_type": "code",
   "execution_count": 29,
   "id": "2acf4dcb",
   "metadata": {},
   "outputs": [
    {
     "name": "stdout",
     "output_type": "stream",
     "text": [
      "5\n"
     ]
    }
   ],
   "source": [
    "def findLHS(nums):\n",
    "    num_counts = {}\n",
    "    max_length = 0\n",
    "    \n",
    "    for num in nums:\n",
    "        num_counts[num] = num_counts.get(num, 0) + 1\n",
    "    \n",
    "    for num in num_counts:\n",
    "        if num + 1 in num_counts:\n",
    "            max_length = max(max_length, num_counts[num] + num_counts[num + 1])\n",
    "    \n",
    "    return max_length\n",
    "\n",
    "nums = [1, 1, 1, 2, 2, 3, 3, 4, 4]\n",
    "print(findLHS(nums)) "
   ]
  },
  {
   "cell_type": "markdown",
   "id": "723a905c",
   "metadata": {},
   "source": [
    "Question 4\n",
    "\n",
    "You have a long flowerbed in which some of the plots are planted, and some are not.\n",
    "However, flowers cannot be planted in adjacent plots.\n",
    "Given an integer array flowerbed containing 0's and 1's, where 0 means empty and 1 means not empty, and an integer n, return true if n new flowers can be planted in the flowerbed without violating the no-adjacent-flowers rule and false otherwise."
   ]
  },
  {
   "cell_type": "code",
   "execution_count": 37,
   "id": "52b6026d",
   "metadata": {},
   "outputs": [
    {
     "name": "stdout",
     "output_type": "stream",
     "text": [
      "True\n"
     ]
    }
   ],
   "source": [
    "def canPlaceFlowers(flowerbed, n):\n",
    "    count = 0\n",
    "    length = len(flowerbed)\n",
    "    for i in range(length):\n",
    "        if (\n",
    "            flowerbed[i] == 0 and\n",
    "            (i == 0 or flowerbed[i - 1] == 0) and\n",
    "            (i == length - 1 or flowerbed[i + 1] == 0)\n",
    "        ):\n",
    "            count += 1\n",
    "            flowerbed[i] = 1\n",
    "            if count >= n:\n",
    "                return True\n",
    "    return False\n",
    "\n",
    "\n",
    "flowerbed = [1, 0, 0, 0, 1]\n",
    "n = 1\n",
    "print(canPlaceFlowers(flowerbed, n)) "
   ]
  },
  {
   "cell_type": "markdown",
   "id": "2e07cfdc",
   "metadata": {},
   "source": [
    "Question 5\n",
    "\n",
    "Given an integer array nums, find three numbers whose product is maximum and return the maximum product."
   ]
  },
  {
   "cell_type": "code",
   "execution_count": 38,
   "id": "e992f317",
   "metadata": {},
   "outputs": [
    {
     "name": "stdout",
     "output_type": "stream",
     "text": [
      "891\n"
     ]
    },
    {
     "data": {
      "text/plain": [
       "[11, 9, 9, 9, 8, 7, 6, 5]"
      ]
     },
     "execution_count": 38,
     "metadata": {},
     "output_type": "execute_result"
    }
   ],
   "source": [
    "list1=[9,9,11,9,5,8,7,6]\n",
    "list1.sort(reverse=1)\n",
    "print(list1[0]*list1[1]*list1[2])\n",
    "list1"
   ]
  },
  {
   "cell_type": "markdown",
   "id": "0bf2b6c3",
   "metadata": {},
   "source": [
    "Question 6\n",
    "\n",
    "Given an array of integers nums which is sorted in ascending order, and an integer target,\n",
    "write a function to search target in nums. If target exists, then return its index. Otherwise,\n",
    "return -1.\n",
    "\n",
    "You must write an algorithm with O(log n) runtime complexity.\n"
   ]
  },
  {
   "cell_type": "code",
   "execution_count": 1,
   "id": "05221102",
   "metadata": {},
   "outputs": [
    {
     "data": {
      "text/plain": [
       "4"
      ]
     },
     "execution_count": 1,
     "metadata": {},
     "output_type": "execute_result"
    }
   ],
   "source": [
    "def search(nums, target):\n",
    "    left = 0\n",
    "    right = len(nums) - 1\n",
    "    \n",
    "    while left <= right:\n",
    "        mid = (left + right) // 2\n",
    "        \n",
    "        if nums[mid] == target:\n",
    "            return mid\n",
    "        elif nums[mid] < target:\n",
    "            left = mid + 1\n",
    "        else:\n",
    "            right = mid - 1\n",
    "    \n",
    "    return -1\n",
    "\n",
    "nums = [-1,0,3,5,9,12]\n",
    "target = 9\n",
    "search(nums,target)"
   ]
  },
  {
   "cell_type": "markdown",
   "id": "f9f578c2",
   "metadata": {},
   "source": [
    "Question 7\n",
    "\n",
    "An array is monotonic if it is either monotone increasing or monotone decreasing.\n",
    "\n",
    "An array nums is monotone increasing if for all i <= j, nums[i] <= nums[j]. An array nums is\n",
    "monotone decreasing if for all i <= j, nums[i] >= nums[j].\n",
    "\n",
    "Given an integer array nums, return true if the given array is monotonic, or false otherwise."
   ]
  },
  {
   "cell_type": "code",
   "execution_count": 11,
   "id": "87db4abb",
   "metadata": {},
   "outputs": [
    {
     "data": {
      "text/plain": [
       "True"
      ]
     },
     "execution_count": 11,
     "metadata": {},
     "output_type": "execute_result"
    }
   ],
   "source": [
    "def monotonic(arr):\n",
    "    increasing = True\n",
    "    decreasing = True\n",
    "    \n",
    "    for i in range(1, len(nums)):\n",
    "        if nums[i] > nums[i - 1]:\n",
    "            decreasing = False\n",
    "        if nums[i] < nums[i - 1]:\n",
    "            increasing = False\n",
    "            \n",
    "    return decreasing or increasing\n",
    "            \n",
    "monotonic([1,2,3,4,5,5,5,5,6])"
   ]
  },
  {
   "cell_type": "markdown",
   "id": "b84ff13e",
   "metadata": {},
   "source": [
    "Question 8\n",
    "\n",
    "You are given an integer array nums and an integer k.\n",
    "\n",
    "In one operation, you can choose any index i where 0 <= i < nums.length and change nums[i] to nums[i] + x where x is an integer from the range [-k, k]. You can apply this operation at most once for each index i.\n",
    "\n",
    "The score of nums is the difference between the maximum and minimum elements in nums.\n",
    "\n",
    "Return the minimum score of nums after applying the mentioned operation at most once for each index in it."
   ]
  },
  {
   "cell_type": "code",
   "execution_count": 17,
   "id": "4e41d76f",
   "metadata": {},
   "outputs": [
    {
     "data": {
      "text/plain": [
       "0"
      ]
     },
     "execution_count": 17,
     "metadata": {},
     "output_type": "execute_result"
    }
   ],
   "source": [
    "def minimumScore(nums, k):\n",
    "    min_score = float('inf')\n",
    "\n",
    "    for x in range(-k, k + 1):\n",
    "        min_num = max_num = nums[0]\n",
    "\n",
    "        for i in range(1, len(nums)):\n",
    "            min_num = min(min_num + x, nums[i])\n",
    "            max_num = max(max_num + x, nums[i])\n",
    "\n",
    "        min_score = min(min_score, max_num - min_num)\n",
    "\n",
    "    return min_score\n",
    "\n",
    "nums = [1]\n",
    "k = 5\n",
    "minimumScore(nums,k)"
   ]
  }
 ],
 "metadata": {
  "kernelspec": {
   "display_name": "Python 3",
   "language": "python",
   "name": "python3"
  },
  "language_info": {
   "codemirror_mode": {
    "name": "ipython",
    "version": 3
   },
   "file_extension": ".py",
   "mimetype": "text/x-python",
   "name": "python",
   "nbconvert_exporter": "python",
   "pygments_lexer": "ipython3",
   "version": "3.8.8"
  }
 },
 "nbformat": 4,
 "nbformat_minor": 5
}
